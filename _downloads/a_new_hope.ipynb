{
  "nbformat_minor": 0,
  "cells": [
    {
      "cell_type": "code",
      "execution_count": null,
      "source": [
        "%matplotlib inline"
      ],
      "outputs": [],
      "metadata": {
        "collapsed": false
      }
    },
    {
      "cell_type": "markdown",
      "source": [
        "\nUsing custom colors\n===================\n\nUsing the recolor method and custom coloring functions.\n\n"
      ],
      "metadata": {}
    },
    {
      "cell_type": "code",
      "execution_count": null,
      "source": [
        "import numpy as np\nfrom PIL import Image\nfrom os import path\nimport matplotlib.pyplot as plt\nimport random\n\nfrom wordcloud import WordCloud, STOPWORDS\n\n\ndef grey_color_func(word, font_size, position, orientation, random_state=None,\n                    **kwargs):\n    return \"hsl(0, 0%%, %d%%)\" % random.randint(60, 100)\n\nd = path.dirname(__file__)\n\n# read the mask image\n# taken from\n# http://www.stencilry.org/stencils/movies/star%20wars/storm-trooper.gif\nmask = np.array(Image.open(path.join(d, \"stormtrooper_mask.png\")))\n\n# movie script of \"a new hope\"\n# http://www.imsdb.com/scripts/Star-Wars-A-New-Hope.html\n# May the lawyers deem this fair use.\ntext = open(\"a_new_hope.txt\").read()\n\n# preprocessing the text a little bit\ntext = text.replace(\"HAN\", \"Han\")\ntext = text.replace(\"LUKE'S\", \"Luke\")\n\n# adding movie script specific stopwords\nstopwords = set(STOPWORDS)\nstopwords.add(\"int\")\nstopwords.add(\"ext\")\n\nwc = WordCloud(max_words=1000, mask=mask, stopwords=stopwords, margin=10,\n               random_state=1).generate(text)\n# store default colored image\ndefault_colors = wc.to_array()\nplt.title(\"Custom colors\")\nplt.imshow(wc.recolor(color_func=grey_color_func, random_state=3),\n           interpolation=\"bilinear\")\nwc.to_file(\"a_new_hope.png\")\nplt.axis(\"off\")\nplt.figure()\nplt.title(\"Default colors\")\nplt.imshow(default_colors, interpolation=\"bilinear\")\nplt.axis(\"off\")\nplt.show()"
      ],
      "outputs": [],
      "metadata": {
        "collapsed": false
      }
    }
  ],
  "nbformat": 4,
  "metadata": {
    "kernelspec": {
      "language": "python",
      "display_name": "Python 3",
      "name": "python3"
    },
    "language_info": {
      "version": "3.5.2",
      "codemirror_mode": {
        "version": 3,
        "name": "ipython"
      },
      "name": "python",
      "pygments_lexer": "ipython3",
      "nbconvert_exporter": "python",
      "mimetype": "text/x-python",
      "file_extension": ".py"
    }
  }
}